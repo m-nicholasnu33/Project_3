{
 "cells": [
  {
   "cell_type": "code",
   "execution_count": 236,
   "metadata": {},
   "outputs": [],
   "source": [
    "import openai\n",
    "import pandas as pd\n",
    "import os\n",
    "from dotenv import load_dotenv\n",
    "from sklearn.metrics.pairwise import cosine_similarity\n",
    "from scipy.spatial import distance\n",
    "\n",
    "import gradio as gr\n",
    "from langchain.chat_models import ChatOpenAI\n",
    "from langchain.prompts import PromptTemplate\n",
    "from langchain.schema import HumanMessage\n",
    "import re\n",
    "\n",
    "import numpy as np\n",
    "\n",
    "# Load environment variables from .env file\n",
    "load_dotenv()\n",
    "\n",
    "# Set your OpenAI API key\n",
    "openai.api_key = os.getenv(\"OPENAI_API_KEY\")"
   ]
  },
  {
   "cell_type": "code",
   "execution_count": 237,
   "metadata": {},
   "outputs": [],
   "source": [
    "filtered_df = pd.read_csv('Resources/filtered_psalms.csv')"
   ]
  },
  {
   "cell_type": "code",
   "execution_count": 238,
   "metadata": {},
   "outputs": [],
   "source": [
    "def get_embeddings(texts):\n",
    "    response = openai.embeddings.create(\n",
    "        input=texts,\n",
    "        model=\"text-embedding-ada-002\"  # Play with this\n",
    "    )\n",
    "    return response\n",
    "\n",
    "# Get embeddings for the queries in filtered_df\n",
    "res = get_embeddings(filtered_df['query'])\n",
    "res2 = get_embeddings(filtered_df['t'])"
   ]
  },
  {
   "cell_type": "code",
   "execution_count": 239,
   "metadata": {},
   "outputs": [],
   "source": [
    "filtered_df['query_embeddings']=[e.embedding for e in res.data]\n",
    "filtered_df['verse_embeddings']=[e.embedding for e in res2.data]"
   ]
  },
  {
   "cell_type": "code",
   "execution_count": 240,
   "metadata": {},
   "outputs": [],
   "source": [
    "for idx, row in filtered_df.iterrows(): \n",
    "    # query_emb = np.array(filtered_df.loc[idx, 'query_embeddings']).reshape(1, -1)\n",
    "    # verse_emb = np.array(filtered_df.loc[idx, 'verse_embeddings']).reshape(1, -1)\n",
    "    # filtered_df.loc[idx, 'score']=cosine_similarity(query_emb, verse_emb)[0, 0]\n",
    "\n",
    "    filtered_df.loc[idx, 'score']=distance.euclidean(filtered_df.loc[idx, 'query_embeddings'], filtered_df.loc[idx, 'verse_embeddings'])"
   ]
  },
  {
   "cell_type": "code",
   "execution_count": 241,
   "metadata": {},
   "outputs": [
    {
     "data": {
      "text/html": [
       "<div>\n",
       "<style scoped>\n",
       "    .dataframe tbody tr th:only-of-type {\n",
       "        vertical-align: middle;\n",
       "    }\n",
       "\n",
       "    .dataframe tbody tr th {\n",
       "        vertical-align: top;\n",
       "    }\n",
       "\n",
       "    .dataframe thead th {\n",
       "        text-align: right;\n",
       "    }\n",
       "</style>\n",
       "<table border=\"1\" class=\"dataframe\">\n",
       "  <thead>\n",
       "    <tr style=\"text-align: right;\">\n",
       "      <th></th>\n",
       "      <th>Unnamed: 0</th>\n",
       "      <th>index</th>\n",
       "      <th>c</th>\n",
       "      <th>v</th>\n",
       "      <th>t</th>\n",
       "      <th>query</th>\n",
       "      <th>query_embeddings</th>\n",
       "      <th>verse_embeddings</th>\n",
       "      <th>score</th>\n",
       "    </tr>\n",
       "  </thead>\n",
       "  <tbody>\n",
       "    <tr>\n",
       "      <th>0</th>\n",
       "      <td>0</td>\n",
       "      <td>0</td>\n",
       "      <td>1</td>\n",
       "      <td>1</td>\n",
       "      <td>Blessed is the man that walketh not in the cou...</td>\n",
       "      <td>What qualities characterize a person who avoid...</td>\n",
       "      <td>[0.016710558906197548, -0.015944018959999084, ...</td>\n",
       "      <td>[-0.007161329500377178, -0.025154713541269302,...</td>\n",
       "      <td>0.859334</td>\n",
       "    </tr>\n",
       "    <tr>\n",
       "      <th>1</th>\n",
       "      <td>1</td>\n",
       "      <td>2</td>\n",
       "      <td>1</td>\n",
       "      <td>3</td>\n",
       "      <td>And he shall be like a tree planted by the riv...</td>\n",
       "      <td>How does a person who delights in the law of t...</td>\n",
       "      <td>[0.014488780871033669, -0.010954140685498714, ...</td>\n",
       "      <td>[-0.02479194849729538, -0.027825139462947845, ...</td>\n",
       "      <td>0.810342</td>\n",
       "    </tr>\n",
       "    <tr>\n",
       "      <th>2</th>\n",
       "      <td>2</td>\n",
       "      <td>3</td>\n",
       "      <td>1</td>\n",
       "      <td>4</td>\n",
       "      <td>The ungodly are not so: but are like the chaff...</td>\n",
       "      <td>In what ways are the ungodly compared to chaff...</td>\n",
       "      <td>[0.012165543623268604, -0.020042797550559044, ...</td>\n",
       "      <td>[-0.01596587337553501, -0.02243679389357567, -...</td>\n",
       "      <td>0.901718</td>\n",
       "    </tr>\n",
       "    <tr>\n",
       "      <th>3</th>\n",
       "      <td>3</td>\n",
       "      <td>5</td>\n",
       "      <td>1</td>\n",
       "      <td>6</td>\n",
       "      <td>For the LORD knoweth the way of the righteous:...</td>\n",
       "      <td>What is the ultimate fate of those who do not ...</td>\n",
       "      <td>[0.009488795883953571, -0.029888054355978966, ...</td>\n",
       "      <td>[-0.004083526320755482, -0.011692889966070652,...</td>\n",
       "      <td>0.835622</td>\n",
       "    </tr>\n",
       "    <tr>\n",
       "      <th>4</th>\n",
       "      <td>4</td>\n",
       "      <td>6</td>\n",
       "      <td>2</td>\n",
       "      <td>1</td>\n",
       "      <td>Why do the heathen rage, and the people imagin...</td>\n",
       "      <td>What motivates people to resist authority and ...</td>\n",
       "      <td>[0.012656386010348797, -0.03734462335705757, -...</td>\n",
       "      <td>[0.012741481885313988, -0.011920691467821598, ...</td>\n",
       "      <td>0.788628</td>\n",
       "    </tr>\n",
       "  </tbody>\n",
       "</table>\n",
       "</div>"
      ],
      "text/plain": [
       "   Unnamed: 0  index  c  v                                                  t  \\\n",
       "0           0      0  1  1  Blessed is the man that walketh not in the cou...   \n",
       "1           1      2  1  3  And he shall be like a tree planted by the riv...   \n",
       "2           2      3  1  4  The ungodly are not so: but are like the chaff...   \n",
       "3           3      5  1  6  For the LORD knoweth the way of the righteous:...   \n",
       "4           4      6  2  1  Why do the heathen rage, and the people imagin...   \n",
       "\n",
       "                                               query  \\\n",
       "0  What qualities characterize a person who avoid...   \n",
       "1  How does a person who delights in the law of t...   \n",
       "2  In what ways are the ungodly compared to chaff...   \n",
       "3  What is the ultimate fate of those who do not ...   \n",
       "4  What motivates people to resist authority and ...   \n",
       "\n",
       "                                    query_embeddings  \\\n",
       "0  [0.016710558906197548, -0.015944018959999084, ...   \n",
       "1  [0.014488780871033669, -0.010954140685498714, ...   \n",
       "2  [0.012165543623268604, -0.020042797550559044, ...   \n",
       "3  [0.009488795883953571, -0.029888054355978966, ...   \n",
       "4  [0.012656386010348797, -0.03734462335705757, -...   \n",
       "\n",
       "                                    verse_embeddings     score  \n",
       "0  [-0.007161329500377178, -0.025154713541269302,...  0.859334  \n",
       "1  [-0.02479194849729538, -0.027825139462947845, ...  0.810342  \n",
       "2  [-0.01596587337553501, -0.02243679389357567, -...  0.901718  \n",
       "3  [-0.004083526320755482, -0.011692889966070652,...  0.835622  \n",
       "4  [0.012741481885313988, -0.011920691467821598, ...  0.788628  "
      ]
     },
     "execution_count": 241,
     "metadata": {},
     "output_type": "execute_result"
    }
   ],
   "source": [
    "filtered_df.head()"
   ]
  },
  {
   "cell_type": "code",
   "execution_count": 242,
   "metadata": {},
   "outputs": [],
   "source": [
    "llm = ChatOpenAI(model_name=\"gpt-4o\", temperature=0)\n",
    "\n",
    "\n",
    "def find_best_verses(user_query):\n",
    "    uqe = get_embeddings(user_query).data[0].embedding\n",
    "    scores = []\n",
    "    \n",
    "    for i, row in filtered_df.iterrows():\n",
    "        dist = distance.euclidean(row['query_embeddings'],uqe)\n",
    "        scores.append((dist, i))\n",
    "    \n",
    "    # Sort by distance and select the top 5 matches\n",
    "    scores = sorted(scores, key=lambda x: x[0])[:5]  # Sort by distance (ascending)\n",
    "\n",
    "    # Collect the best matching verses\n",
    "    best_verses = [\n",
    "        f\"{i + 1}. {filtered_df.iloc[index]['t']}\" for i, (_, index) in enumerate(scores)\n",
    "    ]\n",
    "\n",
    "    # Format the output as a string\n",
    "    verses_str =  \"\\n\".join(best_verses)\n",
    "    \n",
    "    # Evaluate relevance using LangChain\n",
    "    evaluation, yes_ratio = evaluate_relevance(user_query, verses_str)\n",
    "\n",
    "    # Return both the verses, evaluation result, and yes ratio\n",
    "    return f\"Best Verses:\\n{verses_str}\\n\\nEvaluation:\\n{evaluation}\\n\\nYes Ratio: {yes_ratio:.2%}\"\n",
    "\n",
    "def evaluate_relevance(user_query, verses):\n",
    "    # Define the evaluation prompt template\n",
    "    prompt = PromptTemplate(\n",
    "        input_variables=[\"query\", \"verses\"],\n",
    "        template=(\n",
    "            \"Given the query: '{query}' and the following verses:\\n\\n\"\n",
    "            \"{verses}\\n\\n\"\n",
    "            \"Rate each verse with either a yes or no, yes being relevant advice and no being irrelevant advice to the query. Also give a brief explanation why you chose your answer.\"\n",
    "            \"Format your answers exactly as:\\n\"\n",
    "            \"1. yes\\n\"\n",
    "            \"2. no\\n\"\n",
    "            \"3. yes\\n\"\n",
    "            \"Provide brief explanations below the answers.\"\n",
    "        )\n",
    "    )\n",
    "\n",
    "    # Format the prompt with the user's query and verses\n",
    "    formatted_prompt = prompt.format(query=user_query, verses=verses)\n",
    "\n",
    "    # Use LangChain to generate an evaluation\n",
    "    messages = [HumanMessage(content=formatted_prompt)]\n",
    "    response = llm(messages).content\n",
    "    \n",
    "    answers = re.findall(r\"\\b(yes|no)\\b\", response.lower())\n",
    "\n",
    "    # Calculate the ratio of 'yes' answers\n",
    "    yes_count = answers.count(\"yes\")\n",
    "    total_count = len(answers)\n",
    "    yes_ratio = yes_count / total_count if total_count > 0 else 0\n",
    "\n",
    "    # Return the response and yes ratio\n",
    "    return response, yes_ratio"
   ]
  },
  {
   "cell_type": "code",
   "execution_count": 243,
   "metadata": {},
   "outputs": [
    {
     "name": "stdout",
     "output_type": "stream",
     "text": [
      "'Yes' Percentage: 46.67%\n",
      "'Yes' numbers: 23.3335\n",
      "'No' numbers: 26.6665\n"
     ]
    }
   ],
   "source": [
    "# Initialize variables to track total responses and yes counts\n",
    "total_ratio = 0\n",
    "\n",
    "example_queries = [\"How can I cope with stress during tough times?\",\n",
    "                  \"What should I consider when making a big life decision?\",\n",
    "                  \"How can I rebuild trust with a friend after a conflict?\",\n",
    "                  \"What can I do to overcome my fears?\",\n",
    "                  \"How can I manage my anger in difficult situations?\",\n",
    "                  \"What are some strategies to stay motivated at work?\",\n",
    "                  \"What techniques can help me reduce anxiety?\",\n",
    "                  \"How can I boost my self-confidence?\",\n",
    "                  \"What practices can help me feel more grateful?\",\n",
    "                  \"What are effective ways to resolve disagreements with others?\"]\n",
    "\n",
    "\n",
    "# Initialize variables to track total responses and yes counts\n",
    "total_ratio = 0\n",
    "\n",
    "# Loop through each query\n",
    "for query in example_queries:\n",
    "    # Call the find_best_verses function to get verses and evaluation\n",
    "    output = find_best_verses(query)\n",
    "    \n",
    "    # Extract the evaluation part from the output\n",
    "    evaluation = output.split(\"\\n\\nEvaluation:\\n\")[1]\n",
    "    yes_ratio = float(evaluation[-6:-1])\n",
    "    # Count the 'yes' and 'no' responses\n",
    "    responses = evaluation.splitlines()\n",
    "    total_ratio += yes_ratio\n",
    "    # Count total responses (assuming each query should have 5 responses)\n",
    "\n",
    "# Calculate the yes ratio\n",
    "total_ratio /= len(example_queries)\n",
    "yes_numbers = total_ratio*.5\n",
    "no_numbers = 50-yes_numbers\n",
    "\n",
    "# Print the results\n",
    "print(f\"'Yes' Percentage: {total_ratio:.2f}%\")\n",
    "print(f\"'Yes' numbers: {yes_numbers}\")\n",
    "print(f\"'No' numbers: {no_numbers}\")"
   ]
  },
  {
   "cell_type": "code",
   "execution_count": 244,
   "metadata": {},
   "outputs": [],
   "source": [
    "# 'Yes' Percentage: 50.00%\n",
    "# 'Yes' numbers: 25.0\n",
    "# 'No' numbers: 25.0\n",
    "# Cosine Similarity and text-embedding-3-small"
   ]
  },
  {
   "cell_type": "code",
   "execution_count": 245,
   "metadata": {},
   "outputs": [
    {
     "name": "stdout",
     "output_type": "stream",
     "text": [
      "* Running on local URL:  http://127.0.0.1:7900\n",
      "\n",
      "To create a public link, set `share=True` in `launch()`.\n"
     ]
    },
    {
     "data": {
      "text/html": [
       "<div><iframe src=\"http://127.0.0.1:7900/\" width=\"100%\" height=\"500\" allow=\"autoplay; camera; microphone; clipboard-read; clipboard-write;\" frameborder=\"0\" allowfullscreen></iframe></div>"
      ],
      "text/plain": [
       "<IPython.core.display.HTML object>"
      ]
     },
     "metadata": {},
     "output_type": "display_data"
    }
   ],
   "source": [
    "# Create the Gradio interface\n",
    "with gr.Interface(\n",
    "    fn=find_best_verses,                       # Function to handle input\n",
    "    inputs=gr.Textbox(label=\"What would you like to seek advice about?\"),  # Input box\n",
    "    outputs=\"text\",                      # Output displayed as text\n",
    "    title=\"Advice Seeker\",               # Title of the app\n",
    "    description=\"Enter a topic you need advice on, and we will return the top 5 bible verses to help you with your problems.\"  # Brief description\n",
    ") as interface:\n",
    "    interface.launch()  # Launch the Gradio app"
   ]
  },
  {
   "cell_type": "code",
   "execution_count": 246,
   "metadata": {},
   "outputs": [],
   "source": [
    "## large and cosine: 48%\n",
    "## ada and cosine: "
   ]
  }
 ],
 "metadata": {
  "kernelspec": {
   "display_name": "dev",
   "language": "python",
   "name": "python3"
  },
  "language_info": {
   "codemirror_mode": {
    "name": "ipython",
    "version": 3
   },
   "file_extension": ".py",
   "mimetype": "text/x-python",
   "name": "python",
   "nbconvert_exporter": "python",
   "pygments_lexer": "ipython3",
   "version": "3.10.14"
  }
 },
 "nbformat": 4,
 "nbformat_minor": 2
}
